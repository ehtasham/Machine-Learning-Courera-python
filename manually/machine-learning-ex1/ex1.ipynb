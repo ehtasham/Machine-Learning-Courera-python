{
 "cells": [
  {
   "cell_type": "code",
   "execution_count": 14,
   "metadata": {},
   "outputs": [],
   "source": [
    "#Machine Learning Coursera Assignment 1 \n",
    "import pandas as pd\n",
    "import numpy as np\n",
    "import matplotlib.pyplot as plt\n",
    "import sys\n",
    "import os"
   ]
  },
  {
   "cell_type": "code",
   "execution_count": 15,
   "metadata": {},
   "outputs": [],
   "source": [
    "# ==================== Part 1: Basic Function ====================\n",
    "df=pd.read_csv(\"ex1data1.txt\",sep=\",\",engine='python')\n",
    "df.head()\n",
    "y=df[\"profit\"].to_frame()\n",
    "X=df.drop([\"profit\"],axis=1)"
   ]
  },
  {
   "cell_type": "code",
   "execution_count": 16,
   "metadata": {},
   "outputs": [
    {
     "data": {
      "image/png": "[encoded data removed]",
      "text/plain": [
       "<Figure size 432x288 with 1 Axes>"
      ]
     },
     "metadata": {
      "needs_background": "light"
     },
     "output_type": "display_data"
    }
   ],
   "source": [
    "#======================= Part 2: Plotting =======================\n",
    "plt.scatter(df[\"population\"],df[\"profit\"],marker='x',color=\"red\",linewidths=1)\n",
    "plt.title(\"Profit vs population\")\n",
    "plt.xlabel(\"population\")\n",
    "plt.ylabel(\"profit\")\n",
    "plt.show()"
   ]
  },
  {
   "cell_type": "code",
   "execution_count": 17,
   "metadata": {},
   "outputs": [],
   "source": [
    "# =================== Part 3: Cost and Gradient descent ===================\n",
    "ones = pd.DataFrame(np.ones((len(X), 1)))\n",
    "X=pd.concat([ones, X], axis=1)"
   ]
  },
  {
   "cell_type": "code",
   "execution_count": 18,
   "metadata": {},
   "outputs": [],
   "source": [
    "theta=np.zeros((2,1))\n",
    "iterations=1500\n",
    "alpha=0.01"
   ]
  },
  {
   "cell_type": "code",
   "execution_count": 19,
   "metadata": {},
   "outputs": [],
   "source": [
    "# Cost Function\n",
    "def computeCost(X,y,theta):\n",
    "    m=len(y)\n",
    "    J=0\n",
    "    h=X.dot(theta)\n",
    "    z=h.subtract(y['profit'], axis=0)\n",
    "    square=np.square(z)\n",
    "    sum=square.sum()\n",
    "    J=sum/(2*m)\n",
    "    return J"
   ]
  },
  {
   "cell_type": "code",
   "execution_count": 20,
   "metadata": {},
   "outputs": [
    {
     "name": "stdout",
     "output_type": "stream",
     "text": [
      "With theta = [0 ; 0] Cost computed = 32.072733877455676\n",
      "Expected cost value (approx) 32.07\n"
     ]
    }
   ],
   "source": [
    "# compute and display initial cost\n",
    "J=computeCost(X,y,theta)\n",
    "print(\"With theta = [0 ; 0] Cost computed =\", J.values[0]);\n",
    "print('Expected cost value (approx) 32.07');"
   ]
  },
  {
   "cell_type": "code",
   "execution_count": 21,
   "metadata": {},
   "outputs": [
    {
     "name": "stdout",
     "output_type": "stream",
     "text": [
      "With theta = [0 ; 0] Cost computed = 54.24245508201238\n",
      "Expected cost value (approx) 54.24\n"
     ]
    }
   ],
   "source": [
    "# further testing of the cost function\n",
    "theta=np.array([[-1], [2]])\n",
    "J = computeCost(X, y,theta);\n",
    "print(\"With theta = [0 ; 0] Cost computed =\", J.values[0]);\n",
    "print('Expected cost value (approx) 54.24');"
   ]
  },
  {
   "cell_type": "code",
   "execution_count": 22,
   "metadata": {},
   "outputs": [],
   "source": [
    "#Gradient Descent\n",
    "def gradientDescent(X,y,theta,alpha,iterations):\n",
    "    m=len(y)\n",
    "    J_history=np.zeros((iterations+1,1))\n",
    "    for i in range(iterations):\n",
    "        h=X.dot(theta)\n",
    "        z=h.subtract(y['profit'], axis=0)\n",
    "        Xz=X.T.dot(z)\n",
    "        theta=theta-((alpha/m)*Xz)\n",
    "        J_history[iterations] = computeCost(X, y, theta);     \n",
    "    return theta,J_history"
   ]
  },
  {
   "cell_type": "code",
   "execution_count": 23,
   "metadata": {},
   "outputs": [
    {
     "name": "stdout",
     "output_type": "stream",
     "text": [
      "Theta found by gradient descent:  [[-3.63029144]\n",
      " [ 1.16636235]]\n",
      "Expected theta values (approx): -3.6303  1.1664\n"
     ]
    }
   ],
   "source": [
    "#run gradient descent\n",
    "theta=np.zeros((2,1))\n",
    "theta,J_history=gradientDescent(X,y,theta,alpha,iterations)\n",
    "# print theta to screen\n",
    "print('Theta found by gradient descent: ', theta.values[:]);\n",
    "print('Expected theta values (approx): -3.6303  1.1664');"
   ]
  },
  {
   "cell_type": "code",
   "execution_count": 24,
   "metadata": {},
   "outputs": [
    {
     "data": {
      "image/png": "[encoded data removed]",
      "text/plain": [
       "<Figure size 432x288 with 1 Axes>"
      ]
     },
     "metadata": {
      "needs_background": "light"
     },
     "output_type": "display_data"
    }
   ],
   "source": [
    "# Plot the linear fit\n",
    "plt.scatter(df[\"population\"],df[\"profit\"],marker='x',color=\"red\",linewidths=1)\n",
    "plt.plot(X[\"population\"],X.dot(theta))\n",
    "plt.title(\"Profit vs population\")\n",
    "plt.xlabel(\"population\")\n",
    "plt.ylabel(\"profit\")\n",
    "plt.show()"
   ]
  },
  {
   "cell_type": "code",
   "execution_count": 25,
   "metadata": {},
   "outputs": [
    {
     "name": "stdout",
     "output_type": "stream",
     "text": [
      "For population = 35,000, we predict a profit of [[4519.7678677]]\n",
      "For population = 70,000, we predict a profit of [[45342.45012945]]\n"
     ]
    }
   ],
   "source": [
    "#  Predict values for population sizes of 35,000 and 70,000\n",
    "predict1 = np.array([[1], [3.5]]).T.dot(theta)\n",
    "predict2 = np.array([[1], [7]]).T.dot(theta)\n",
    "\n",
    "print('For population = 35,000, we predict a profit of',predict1*10000);\n",
    "print('For population = 70,000, we predict a profit of',predict2*10000);"
   ]
  }
 ],
 "metadata": {
  "kernelspec": {
   "display_name": "Python 3",
   "language": "python",
   "name": "python3"
  },
  "language_info": {
   "codemirror_mode": {
    "name": "ipython",
    "version": 3
   },
   "file_extension": ".py",
   "mimetype": "text/x-python",
   "name": "python",
   "nbconvert_exporter": "python",
   "pygments_lexer": "ipython3",
   "version": "3.7.1"
  }
 },
 "nbformat": 4,
 "nbformat_minor": 2
}
