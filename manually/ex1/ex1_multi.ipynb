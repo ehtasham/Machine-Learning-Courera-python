{
 "cells": [
  {
   "cell_type": "code",
   "execution_count": 1,
   "metadata": {},
   "outputs": [],
   "source": [
    "import pandas as pd\n",
    "import numpy as np\n",
    "import matplotlib.pyplot as plt\n",
    "import sys\n",
    "import os"
   ]
  },
  {
   "cell_type": "code",
   "execution_count": 2,
   "metadata": {},
   "outputs": [],
   "source": [
    "df = pd.read_csv(\"ex1data2.txt\",sep=\",\",engine='python')"
   ]
  },
  {
   "cell_type": "code",
   "execution_count": 3,
   "metadata": {},
   "outputs": [],
   "source": [
    "y=df[\"price\"].to_frame()\n",
    "X=df.drop([\"price\"],axis=1)"
   ]
  },
  {
   "cell_type": "code",
   "execution_count": 4,
   "metadata": {},
   "outputs": [],
   "source": [
    "#Normalizing the features\n",
    "def featureNormalize(X):\n",
    "    X_norm=X\n",
    "    mu=pd.DataFrame(np.zeros((1,len(X.shape))))\n",
    "    sigma=pd.DataFrame(np.zeros((1,len(X.shape))))\n",
    "    mu.values[0][0]=X[\"size\"].mean()\n",
    "    mu.values[0][1]=X[\"numBedrooms\"].mean()\n",
    "    sigma.values[0][0]=X[\"size\"].std()\n",
    "    sigma.values[0][1]=X[\"numBedrooms\"].std() \n",
    "    X_norm[\"size\"]-=mu.values[0][0]\n",
    "    X_norm[\"size\"]/=sigma.values[0][0]\n",
    "    X_norm[\"numBedrooms\"]-=mu.values[0][1]\n",
    "    X_norm[\"numBedrooms\"]/=sigma.values[0][1]\n",
    "    return X_norm,mu,sigma"
   ]
  },
  {
   "cell_type": "code",
   "execution_count": 5,
   "metadata": {},
   "outputs": [],
   "source": [
    "X,mu,sigma=featureNormalize(X)"
   ]
  },
  {
   "cell_type": "code",
   "execution_count": 6,
   "metadata": {},
   "outputs": [],
   "source": [
    "ones = pd.DataFrame(np.ones((len(X), 1)))\n",
    "X=pd.concat([ones, X], axis=1)"
   ]
  },
  {
   "cell_type": "code",
   "execution_count": 7,
   "metadata": {},
   "outputs": [],
   "source": [
    "def computeCostMulti(X,y,theta):\n",
    "    m=len(y)\n",
    "    J=0\n",
    "    h=X.dot(theta)\n",
    "    z=h.subtract(y[\"price\"],axis=0)\n",
    "    square=np.square(z)\n",
    "    sum=square.sum()\n",
    "    J=sum/(2*m)\n",
    "    return J"
   ]
  },
  {
   "cell_type": "code",
   "execution_count": 8,
   "metadata": {},
   "outputs": [],
   "source": [
    "theta=np.zeros((3,1))\n",
    "alpha = 0.01;\n",
    "num_iters = 400;\n",
    "J=computeCostMulti(X,y,theta)"
   ]
  },
  {
   "cell_type": "code",
   "execution_count": 9,
   "metadata": {},
   "outputs": [],
   "source": [
    "# unning gradient descent\n",
    "def gradientDescentMulti(X,y,theta,alpha,num_iters):\n",
    "    m=len(y)\n",
    "    J_history=np.zeros((num_iters+1,1))\n",
    "    for i in range(num_iters):\n",
    "        h=X.dot(theta)\n",
    "        z=h.subtract(y['price'], axis=0)\n",
    "        Xz=X.T.dot(z)\n",
    "        theta=theta-((alpha/m)*Xz)\n",
    "        J_history[num_iters] = computeCostMulti(X, y, theta);\n",
    "    return theta,J_history"
   ]
  },
  {
   "cell_type": "code",
   "execution_count": 10,
   "metadata": {},
   "outputs": [],
   "source": [
    "theta, J_history = gradientDescentMulti(X, y, theta, alpha, num_iters)"
   ]
  },
  {
   "cell_type": "code",
   "execution_count": 11,
   "metadata": {},
   "outputs": [
    {
     "name": "stdout",
     "output_type": "stream",
     "text": [
      "Theta computed from gradient descent: [[334302.06399328]\n",
      " [100087.11600585]\n",
      " [  3673.54845093]]\n"
     ]
    }
   ],
   "source": [
    "print('Theta computed from gradient descent:',theta.values);"
   ]
  },
  {
   "cell_type": "code",
   "execution_count": 12,
   "metadata": {},
   "outputs": [
    {
     "name": "stdout",
     "output_type": "stream",
     "text": [
      "Predicted price of a 1650 sq-ft, 3 br house using gradient descent  [[289314.62033778]]\n"
     ]
    }
   ],
   "source": [
    "# Estimate the price of a 1650 sq-ft, 3 br house\n",
    "H = np.array([1650,3])\n",
    "H=(H-mu.values)/sigma.values\n",
    "H=np.c_[np.ones(1),H ]  \n",
    "price = H.dot(theta)\n",
    "print('Predicted price of a 1650 sq-ft, 3 br house using gradient descent ', price);"
   ]
  }
 ],
 "metadata": {
  "kernelspec": {
   "display_name": "Python 3",
   "language": "python",
   "name": "python3"
  },
  "language_info": {
   "codemirror_mode": {
    "name": "ipython",
    "version": 3
   },
   "file_extension": ".py",
   "mimetype": "text/x-python",
   "name": "python",
   "nbconvert_exporter": "python",
   "pygments_lexer": "ipython3",
   "version": "3.7.1"
  }
 },
 "nbformat": 4,
 "nbformat_minor": 2
}
